{
 "cells": [
  {
   "cell_type": "code",
   "execution_count": 1,
   "id": "7b71cbf4",
   "metadata": {},
   "outputs": [],
   "source": [
    "import torch\n",
    "import scipy\n",
    "import matplotlib.pyplot as plt\n",
    "import numpy as np\n",
    "import seaborn as sns\n",
    "import title"
   ]
  },
  {
   "cell_type": "code",
   "execution_count": 9,
   "id": "54ff9f42",
   "metadata": {},
   "outputs": [
    {
     "name": "stdout",
     "output_type": "stream",
     "text": [
      "tensor(0.0002)\n",
      "tensor([[[ 1.0000e+00,  0.0000e+00],\n",
      "         [ 0.0000e+00,  1.0000e+00]],\n",
      "\n",
      "        [[ 1.0005e+00,  7.6209e-06],\n",
      "         [-8.6421e-04,  1.0002e+00]],\n",
      "\n",
      "        [[ 1.0010e+00,  1.5218e-05],\n",
      "         [-1.7287e-03,  1.0003e+00]],\n",
      "\n",
      "        ...,\n",
      "\n",
      "        [[ 3.2473e+00, -1.4549e-01],\n",
      "         [-5.3890e+00,  1.6126e+00]],\n",
      "\n",
      "        [[ 3.2477e+00, -1.4553e-01],\n",
      "         [-5.3900e+00,  1.6127e+00]],\n",
      "\n",
      "        [[ 3.2480e+00, -1.4557e-01],\n",
      "         [-5.3909e+00,  1.6128e+00]]], dtype=torch.float64)\n"
     ]
    }
   ],
   "source": [
    "H_np = np.array([[1.0, 0.0], [1/3, 1.0]])\n",
    "M_np = np.array([[1.0, 1/7], [2.7, 2.0]])\n",
    "s = np.array([0.1, 0.4])\n",
    "C_np = 2.0*np.eye(2)\n",
    "D_np = 1.5*np.eye(2)\n",
    "R_np = np.eye(2)\n",
    "x = np.array([1.1, 2.7])\n",
    "T = 1\n",
    "t = 0.2\n",
    "\n",
    "H = torch.tensor(H_np)\n",
    "M = torch.tensor(M_np)\n",
    "C = torch.tensor(C_np)\n",
    "D = torch.tensor(D_np)\n",
    "R = torch.tensor(R_np)\n",
    "\n",
    "N = 5e3\n",
    "t_grid = torch.linspace(t, T, int(N))\n",
    "\n",
    "LQR = title.LQR(H, M, x, s, C, D, T, R)\n",
    "\n",
    "sol = LQR.solve_ricatti_ode(t_grid)\n",
    "print(sol)"
   ]
  },
  {
   "cell_type": "code",
   "execution_count": null,
   "id": "baeea2f0",
   "metadata": {},
   "outputs": [],
   "source": [
    "X_traj = [x]\n",
    "for i in range(int(N)):\n",
    "    X = X_traj[-1]\n",
    "    val = X + (H_np @ X.T + M_np @ a.T) * dt + s * z[i] * np.sqrt(dt)\n",
    "    X_traj.append(val)"
   ]
  },
  {
   "cell_type": "code",
   "execution_count": 8,
   "id": "0adf66e4",
   "metadata": {},
   "outputs": [
    {
     "data": {
      "text/plain": [
       "tensor([[4.0833],\n",
       "        [2.6673]])"
      ]
     },
     "execution_count": 8,
     "metadata": {},
     "output_type": "execute_result"
    }
   ],
   "source": [
    "space[0].T"
   ]
  },
  {
   "cell_type": "code",
   "execution_count": 13,
   "id": "47185d52",
   "metadata": {},
   "outputs": [
    {
     "data": {
      "text/plain": [
       "torch.Tensor"
      ]
     },
     "execution_count": 13,
     "metadata": {},
     "output_type": "execute_result"
    }
   ],
   "source": [
    "type(sol[0])"
   ]
  },
  {
   "cell_type": "code",
   "execution_count": 10,
   "id": "740a0caf",
   "metadata": {},
   "outputs": [
    {
     "name": "stdout",
     "output_type": "stream",
     "text": [
      "tensor([[[5.0557, 5.2070]],\n",
      "\n",
      "        [[4.2738, 1.7719]],\n",
      "\n",
      "        [[1.8313, 1.2812]],\n",
      "\n",
      "        ...,\n",
      "\n",
      "        [[1.7616, 2.1969]],\n",
      "\n",
      "        [[3.5659, 4.7325]],\n",
      "\n",
      "        [[5.7019, 0.8334]]])\n",
      "tensor(0.0002)\n"
     ]
    },
    {
     "ename": "RuntimeError",
     "evalue": "expected m1 and m2 to have the same dtype, but got: double != float",
     "output_type": "error",
     "traceback": [
      "\u001b[0;31m---------------------------------------------------------------------------\u001b[0m",
      "\u001b[0;31mRuntimeError\u001b[0m                              Traceback (most recent call last)",
      "Cell \u001b[0;32mIn[10], line 9\u001b[0m\n\u001b[1;32m      3\u001b[0m \u001b[38;5;28mprint\u001b[39m(space)\n\u001b[1;32m      4\u001b[0m \u001b[38;5;66;03m#time = (torch.rand(batch_size) * T)\u001b[39;00m\n\u001b[1;32m      5\u001b[0m \u001b[38;5;66;03m#sorted_time, indices = torch.sort(time)\u001b[39;00m\n\u001b[1;32m      6\u001b[0m \u001b[38;5;66;03m#print(sorted_time)\u001b[39;00m\n\u001b[1;32m      7\u001b[0m \n\u001b[1;32m      8\u001b[0m \u001b[38;5;66;03m#LQR.calculate_value(sorted_time, space)\u001b[39;00m\n\u001b[0;32m----> 9\u001b[0m \u001b[43mLQR\u001b[49m\u001b[38;5;241;43m.\u001b[39;49m\u001b[43mcalculate_control\u001b[49m\u001b[43m(\u001b[49m\u001b[43mt_grid\u001b[49m\u001b[43m,\u001b[49m\u001b[43m \u001b[49m\u001b[43mspace\u001b[49m\u001b[43m)\u001b[49m\n",
      "File \u001b[0;32m/workspaces/SCDAA/title.py:70\u001b[0m, in \u001b[0;36mLQR.calculate_control\u001b[0;34m(self, time, space)\u001b[0m\n\u001b[1;32m     68\u001b[0m N \u001b[38;5;241m=\u001b[39m \u001b[38;5;28mlen\u001b[39m(time)\n\u001b[1;32m     69\u001b[0m sol \u001b[38;5;241m=\u001b[39m \u001b[38;5;28mself\u001b[39m\u001b[38;5;241m.\u001b[39msolve_ricatti_ode(time) \n\u001b[0;32m---> 70\u001b[0m a_star \u001b[38;5;241m=\u001b[39m [\u001b[38;5;241m-\u001b[39m\u001b[38;5;241m1\u001b[39m \u001b[38;5;241m*\u001b[39m torch\u001b[38;5;241m.\u001b[39mlinalg\u001b[38;5;241m.\u001b[39minv(\u001b[38;5;28mself\u001b[39m\u001b[38;5;241m.\u001b[39mD) \u001b[38;5;241m@\u001b[39m \u001b[38;5;28mself\u001b[39m\u001b[38;5;241m.\u001b[39mM\u001b[38;5;241m.\u001b[39mT \u001b[38;5;241m@\u001b[39m sol[i] \u001b[38;5;241m@\u001b[39m space[i]\u001b[38;5;241m.\u001b[39mT \u001b[38;5;28;01mfor\u001b[39;00m i \u001b[38;5;129;01min\u001b[39;00m \u001b[38;5;28mrange\u001b[39m(N)]\n\u001b[1;32m     72\u001b[0m \u001b[38;5;66;03m#control = torch.zeros(len(space), 2)\u001b[39;00m\n\u001b[1;32m     73\u001b[0m \n\u001b[1;32m     74\u001b[0m \u001b[38;5;66;03m#S = self.solve_ricatti_ode(time) \u001b[39;00m\n\u001b[0;32m   (...)\u001b[0m\n\u001b[1;32m     79\u001b[0m \u001b[38;5;66;03m#    x = space[i]\u001b[39;00m\n\u001b[1;32m     80\u001b[0m \u001b[38;5;66;03m#    control[i,:] = -torch.matmul(D_M_S, x)\u001b[39;00m\n\u001b[1;32m     82\u001b[0m \u001b[38;5;28;01mreturn\u001b[39;00m a_star\n",
      "File \u001b[0;32m/workspaces/SCDAA/title.py:70\u001b[0m, in \u001b[0;36m<listcomp>\u001b[0;34m(.0)\u001b[0m\n\u001b[1;32m     68\u001b[0m N \u001b[38;5;241m=\u001b[39m \u001b[38;5;28mlen\u001b[39m(time)\n\u001b[1;32m     69\u001b[0m sol \u001b[38;5;241m=\u001b[39m \u001b[38;5;28mself\u001b[39m\u001b[38;5;241m.\u001b[39msolve_ricatti_ode(time) \n\u001b[0;32m---> 70\u001b[0m a_star \u001b[38;5;241m=\u001b[39m [\u001b[38;5;241;43m-\u001b[39;49m\u001b[38;5;241;43m1\u001b[39;49m\u001b[43m \u001b[49m\u001b[38;5;241;43m*\u001b[39;49m\u001b[43m \u001b[49m\u001b[43mtorch\u001b[49m\u001b[38;5;241;43m.\u001b[39;49m\u001b[43mlinalg\u001b[49m\u001b[38;5;241;43m.\u001b[39;49m\u001b[43minv\u001b[49m\u001b[43m(\u001b[49m\u001b[38;5;28;43mself\u001b[39;49m\u001b[38;5;241;43m.\u001b[39;49m\u001b[43mD\u001b[49m\u001b[43m)\u001b[49m\u001b[43m \u001b[49m\u001b[38;5;241;43m@\u001b[39;49m\u001b[43m \u001b[49m\u001b[38;5;28;43mself\u001b[39;49m\u001b[38;5;241;43m.\u001b[39;49m\u001b[43mM\u001b[49m\u001b[38;5;241;43m.\u001b[39;49m\u001b[43mT\u001b[49m\u001b[43m \u001b[49m\u001b[38;5;241;43m@\u001b[39;49m\u001b[43m \u001b[49m\u001b[43msol\u001b[49m\u001b[43m[\u001b[49m\u001b[43mi\u001b[49m\u001b[43m]\u001b[49m\u001b[43m \u001b[49m\u001b[38;5;241;43m@\u001b[39;49m\u001b[43m \u001b[49m\u001b[43mspace\u001b[49m\u001b[43m[\u001b[49m\u001b[43mi\u001b[49m\u001b[43m]\u001b[49m\u001b[38;5;241;43m.\u001b[39;49m\u001b[43mT\u001b[49m \u001b[38;5;28;01mfor\u001b[39;00m i \u001b[38;5;129;01min\u001b[39;00m \u001b[38;5;28mrange\u001b[39m(N)]\n\u001b[1;32m     72\u001b[0m \u001b[38;5;66;03m#control = torch.zeros(len(space), 2)\u001b[39;00m\n\u001b[1;32m     73\u001b[0m \n\u001b[1;32m     74\u001b[0m \u001b[38;5;66;03m#S = self.solve_ricatti_ode(time) \u001b[39;00m\n\u001b[0;32m   (...)\u001b[0m\n\u001b[1;32m     79\u001b[0m \u001b[38;5;66;03m#    x = space[i]\u001b[39;00m\n\u001b[1;32m     80\u001b[0m \u001b[38;5;66;03m#    control[i,:] = -torch.matmul(D_M_S, x)\u001b[39;00m\n\u001b[1;32m     82\u001b[0m \u001b[38;5;28;01mreturn\u001b[39;00m a_star\n",
      "\u001b[0;31mRuntimeError\u001b[0m: expected m1 and m2 to have the same dtype, but got: double != float"
     ]
    }
   ],
   "source": [
    "\n",
    "batch_size = int(N)\n",
    "space = torch.rand(batch_size, 1, 2) * 6\n",
    "print(space)\n",
    "#time = (torch.rand(batch_size) * T)\n",
    "#sorted_time, indices = torch.sort(time)\n",
    "#print(sorted_time)\n",
    "\n",
    "#LQR.calculate_value(sorted_time, space)\n",
    "LQR.calculate_control(t_grid, space)"
   ]
  },
  {
   "cell_type": "code",
   "execution_count": 3,
   "id": "10dce14b",
   "metadata": {},
   "outputs": [
    {
     "data": {
      "image/png": "[encoded data removed]",
      "text/plain": [
       "<Figure size 950x600 with 1 Axes>"
      ]
     },
     "metadata": {},
     "output_type": "display_data"
    }
   ],
   "source": [
    "\n",
    "\n",
    "fig, ax = plt.subplots()\n",
    "sns.lineplot(x = t, y = np.linalg.det(sol[::-1]), color = 'blue')\n",
    "fig.set_figheight(6)\n",
    "fig.set_figwidth(9.5)\n",
    "plt.show()"
   ]
  },
  {
   "cell_type": "code",
   "execution_count": null,
   "id": "839d13d3",
   "metadata": {},
   "outputs": [],
   "source": []
  }
 ],
 "metadata": {
  "kernelspec": {
   "display_name": "Python 3 (ipykernel)",
   "language": "python",
   "name": "python3"
  },
  "language_info": {
   "codemirror_mode": {
    "name": "ipython",
    "version": 3
   },
   "file_extension": ".py",
   "mimetype": "text/x-python",
   "name": "python",
   "nbconvert_exporter": "python",
   "pygments_lexer": "ipython3",
   "version": "3.10.13"
  }
 },
 "nbformat": 4,
 "nbformat_minor": 5
}
