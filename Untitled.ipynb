{
 "cells": [
  {
   "cell_type": "code",
   "execution_count": 1,
   "id": "7b71cbf4",
   "metadata": {},
   "outputs": [],
   "source": [
    "import sys"
   ]
  },
  {
   "cell_type": "code",
   "execution_count": 3,
   "id": "6d7de4d7",
   "metadata": {},
   "outputs": [
    {
     "data": {
      "text/plain": [
       "['/opt/homebrew/Cellar/jupyterlab/3.3.0/libexec/lib/python3.9/site-packages',\n",
       " '/opt/homebrew/Cellar/python@3.9/3.9.10/Frameworks/Python.framework/Versions/3.9/lib/python3.9/site-packages']"
      ]
     },
     "execution_count": 3,
     "metadata": {},
     "output_type": "execute_result"
    }
   ],
   "source": [
    "import site\n",
    "site.getsitepackages()"
   ]
  },
  {
   "cell_type": "code",
   "execution_count": null,
   "id": "37680bc7",
   "metadata": {},
   "outputs": [],
   "source": []
  },
  {
   "cell_type": "code",
   "execution_count": 21,
   "id": "56f9da30",
   "metadata": {},
   "outputs": [],
   "source": [
    "#pip freeze"
   ]
  },
  {
   "cell_type": "code",
   "execution_count": 3,
   "id": "27c6af74",
   "metadata": {},
   "outputs": [],
   "source": [
    "#pip install -U --no-deps cvxpy"
   ]
  },
  {
   "cell_type": "code",
   "execution_count": null,
   "id": "89048c68",
   "metadata": {},
   "outputs": [],
   "source": []
  },
  {
   "cell_type": "code",
   "execution_count": 1,
   "id": "e09d36cc",
   "metadata": {},
   "outputs": [
    {
     "name": "stdout",
     "output_type": "stream",
     "text": [
      "Collecting SCS\n",
      "  Using cached scs-3.2.4.post1.tar.gz (1.5 MB)\n",
      "  Installing build dependencies ... \u001b[?25ldone\n",
      "\u001b[?25h  Getting requirements to build wheel ... \u001b[?25ldone\n",
      "\u001b[?25h  Installing backend dependencies ... \u001b[?25ldone\n",
      "\u001b[?25h  Preparing metadata (pyproject.toml) ... \u001b[?25lerror\n",
      "\u001b[31m  ERROR: Command errored out with exit status 1:\n",
      "   command: /opt/homebrew/Cellar/jupyterlab/3.3.0/libexec/bin/python3.9 /opt/homebrew/Cellar/jupyterlab/3.3.0/libexec/lib/python3.9/site-packages/pip/_vendor/pep517/in_process/_in_process.py prepare_metadata_for_build_wheel /var/folders/lf/4hrjtxjs6_jgqk2kmmcrdrx80000gn/T/tmp3czsvbxx\n",
      "       cwd: /private/var/folders/lf/4hrjtxjs6_jgqk2kmmcrdrx80000gn/T/pip-install-t_6ffndh/scs_3fa94e13d3fd48edbf8240b9d4823e67\n",
      "  Complete output (17 lines):\n",
      "  + meson setup /private/var/folders/lf/4hrjtxjs6_jgqk2kmmcrdrx80000gn/T/pip-install-t_6ffndh/scs_3fa94e13d3fd48edbf8240b9d4823e67 /private/var/folders/lf/4hrjtxjs6_jgqk2kmmcrdrx80000gn/T/pip-install-t_6ffndh/scs_3fa94e13d3fd48edbf8240b9d4823e67/.mesonpy-g91f5uw7 -Dbuildtype=release -Db_ndebug=if-release -Db_vscrt=md --native-file=/private/var/folders/lf/4hrjtxjs6_jgqk2kmmcrdrx80000gn/T/pip-install-t_6ffndh/scs_3fa94e13d3fd48edbf8240b9d4823e67/.mesonpy-g91f5uw7/meson-python-native-file.ini\n",
      "  The Meson build system\n",
      "  Version: 1.3.1\n",
      "  Source dir: /private/var/folders/lf/4hrjtxjs6_jgqk2kmmcrdrx80000gn/T/pip-install-t_6ffndh/scs_3fa94e13d3fd48edbf8240b9d4823e67\n",
      "  Build dir: /private/var/folders/lf/4hrjtxjs6_jgqk2kmmcrdrx80000gn/T/pip-install-t_6ffndh/scs_3fa94e13d3fd48edbf8240b9d4823e67/.mesonpy-g91f5uw7\n",
      "  Build type: native build\n",
      "  Project name: scs\n",
      "  Project version: undefined\n",
      "  \n",
      "  ../meson.build:1:0: ERROR: Unknown compiler(s): [['cc'], ['gcc'], ['clang'], ['nvc'], ['pgcc'], ['icc'], ['icx']]\n",
      "  The following exception(s) were encountered:\n",
      "  Running `nvc --version` gave \"[Errno 2] No such file or directory: 'nvc'\"\n",
      "  Running `pgcc --version` gave \"[Errno 2] No such file or directory: 'pgcc'\"\n",
      "  Running `icc --version` gave \"[Errno 2] No such file or directory: 'icc'\"\n",
      "  Running `icx --version` gave \"[Errno 2] No such file or directory: 'icx'\"\n",
      "  \n",
      "  A full log can be found at /private/var/folders/lf/4hrjtxjs6_jgqk2kmmcrdrx80000gn/T/pip-install-t_6ffndh/scs_3fa94e13d3fd48edbf8240b9d4823e67/.mesonpy-g91f5uw7/meson-logs/meson-log.txt\n",
      "  ----------------------------------------\u001b[0m\n",
      "\u001b[33mWARNING: Discarding https://files.pythonhosted.org/packages/5f/15/a9645e3905ffbfad4685df708da0760a98c5ce23bcf794be99a1cddedec8/scs-3.2.4.post1.tar.gz#sha256=7015d7a56d1d5b53264fd277289ea169949309e26101677ff88cd0e5030d032f (from https://pypi.org/simple/scs/) (requires-python:>=3.7). Command errored out with exit status 1: /opt/homebrew/Cellar/jupyterlab/3.3.0/libexec/bin/python3.9 /opt/homebrew/Cellar/jupyterlab/3.3.0/libexec/lib/python3.9/site-packages/pip/_vendor/pep517/in_process/_in_process.py prepare_metadata_for_build_wheel /var/folders/lf/4hrjtxjs6_jgqk2kmmcrdrx80000gn/T/tmp3czsvbxx Check the logs for full command output.\u001b[0m\n",
      "\u001b[?25h  Using cached scs-3.2.4.tar.gz (1.5 MB)\n",
      "  Installing build dependencies ... \u001b[?25ldone\n",
      "\u001b[?25h  Getting requirements to build wheel ... \u001b[?25ldone\n",
      "\u001b[?25h  Installing backend dependencies ... \u001b[?25ldone\n",
      "\u001b[?25h  Preparing metadata (pyproject.toml) ... \u001b[?25lerror\n",
      "\u001b[31m  ERROR: Command errored out with exit status 1:\n",
      "   command: /opt/homebrew/Cellar/jupyterlab/3.3.0/libexec/bin/python3.9 /opt/homebrew/Cellar/jupyterlab/3.3.0/libexec/lib/python3.9/site-packages/pip/_vendor/pep517/in_process/_in_process.py prepare_metadata_for_build_wheel /var/folders/lf/4hrjtxjs6_jgqk2kmmcrdrx80000gn/T/tmp02ziv1eh\n",
      "       cwd: /private/var/folders/lf/4hrjtxjs6_jgqk2kmmcrdrx80000gn/T/pip-install-t_6ffndh/scs_f669d617d718497e813d82eae33ff209\n",
      "  Complete output (17 lines):\n",
      "  + meson setup /private/var/folders/lf/4hrjtxjs6_jgqk2kmmcrdrx80000gn/T/pip-install-t_6ffndh/scs_f669d617d718497e813d82eae33ff209 /private/var/folders/lf/4hrjtxjs6_jgqk2kmmcrdrx80000gn/T/pip-install-t_6ffndh/scs_f669d617d718497e813d82eae33ff209/.mesonpy-c8aebkza -Dbuildtype=release -Db_ndebug=if-release -Db_vscrt=md --native-file=/private/var/folders/lf/4hrjtxjs6_jgqk2kmmcrdrx80000gn/T/pip-install-t_6ffndh/scs_f669d617d718497e813d82eae33ff209/.mesonpy-c8aebkza/meson-python-native-file.ini\n",
      "  The Meson build system\n",
      "  Version: 1.3.1\n",
      "  Source dir: /private/var/folders/lf/4hrjtxjs6_jgqk2kmmcrdrx80000gn/T/pip-install-t_6ffndh/scs_f669d617d718497e813d82eae33ff209\n",
      "  Build dir: /private/var/folders/lf/4hrjtxjs6_jgqk2kmmcrdrx80000gn/T/pip-install-t_6ffndh/scs_f669d617d718497e813d82eae33ff209/.mesonpy-c8aebkza\n",
      "  Build type: native build\n",
      "  Project name: scs\n",
      "  Project version: undefined\n",
      "  \n",
      "  ../meson.build:1:0: ERROR: Unknown compiler(s): [['cc'], ['gcc'], ['clang'], ['nvc'], ['pgcc'], ['icc'], ['icx']]\n",
      "  The following exception(s) were encountered:\n",
      "  Running `nvc --version` gave \"[Errno 2] No such file or directory: 'nvc'\"\n",
      "  Running `pgcc --version` gave \"[Errno 2] No such file or directory: 'pgcc'\"\n",
      "  Running `icc --version` gave \"[Errno 2] No such file or directory: 'icc'\"\n",
      "  Running `icx --version` gave \"[Errno 2] No such file or directory: 'icx'\"\n",
      "  \n",
      "  A full log can be found at /private/var/folders/lf/4hrjtxjs6_jgqk2kmmcrdrx80000gn/T/pip-install-t_6ffndh/scs_f669d617d718497e813d82eae33ff209/.mesonpy-c8aebkza/meson-logs/meson-log.txt\n",
      "  ----------------------------------------\u001b[0m\n",
      "\u001b[33mWARNING: Discarding https://files.pythonhosted.org/packages/d1/c0/fed69fd319a88ea22a242c98ca79afac8b209c4f7d9e001da5575a5fa8a4/scs-3.2.4.tar.gz#sha256=09ffaa670d8608901db94addd8581376498cd9818eb5ef27fed3560f0bf0661b (from https://pypi.org/simple/scs/) (requires-python:>=3.7). Command errored out with exit status 1: /opt/homebrew/Cellar/jupyterlab/3.3.0/libexec/bin/python3.9 /opt/homebrew/Cellar/jupyterlab/3.3.0/libexec/lib/python3.9/site-packages/pip/_vendor/pep517/in_process/_in_process.py prepare_metadata_for_build_wheel /var/folders/lf/4hrjtxjs6_jgqk2kmmcrdrx80000gn/T/tmp02ziv1eh Check the logs for full command output.\u001b[0m\n",
      "\u001b[?25h  Using cached scs-3.2.3.tar.gz (1.2 MB)\n",
      "  Installing build dependencies ... \u001b[?25ldone\n",
      "\u001b[?25h  Getting requirements to build wheel ... \u001b[?25ldone\n",
      "\u001b[?25h  Preparing metadata (pyproject.toml) ... \u001b[?25l-^C\n",
      "\u001b[?25canceled\n",
      "\u001b[31mERROR: Operation cancelled by user\u001b[0m\n",
      "\u001b[33mWARNING: You are using pip version 21.3.1; however, version 24.0 is available.\n",
      "You should consider upgrading via the '/opt/homebrew/Cellar/jupyterlab/3.3.0/libexec/bin/python3.9 -m pip install --upgrade pip' command.\u001b[0m\n"
     ]
    }
   ],
   "source": [
    "import sys\n",
    "!{sys.executable} -m pip install cvxopt"
   ]
  },
  {
   "cell_type": "code",
   "execution_count": 9,
   "id": "eac0c99c",
   "metadata": {},
   "outputs": [
    {
     "name": "stdout",
     "output_type": "stream",
     "text": [
      "Requirement already satisfied: torch in /opt/homebrew/Cellar/jupyterlab/3.3.0/libexec/lib/python3.9/site-packages (1.11.0)\n",
      "Collecting torch\n",
      "  Downloading torch-1.13.1-cp39-none-macosx_11_0_arm64.whl (53.2 MB)\n",
      "     |████████████████████████████████| 53.2 MB 41.8 MB/s            \n",
      "\u001b[?25hRequirement already satisfied: typing-extensions in /opt/homebrew/Cellar/jupyterlab/3.3.0/libexec/lib/python3.9/site-packages (from torch) (4.1.1)\n",
      "Installing collected packages: torch\n",
      "  Attempting uninstall: torch\n",
      "    Found existing installation: torch 1.11.0\n",
      "    Uninstalling torch-1.11.0:\n",
      "      Successfully uninstalled torch-1.11.0\n",
      "Successfully installed torch-1.13.1\n",
      "\u001b[33mWARNING: You are using pip version 21.3.1; however, version 23.0 is available.\n",
      "You should consider upgrading via the '/opt/homebrew/Cellar/jupyterlab/3.3.0/libexec/bin/python3.9 -m pip install --upgrade pip' command.\u001b[0m\n"
     ]
    }
   ],
   "source": [
    "import sys\n",
    "!{sys.executable} -m pip install --upgrade torch"
   ]
  },
  {
   "cell_type": "code",
   "execution_count": 2,
   "id": "794eee7b",
   "metadata": {},
   "outputs": [
    {
     "name": "stdout",
     "output_type": "stream",
     "text": [
      "3.9.10\n"
     ]
    }
   ],
   "source": [
    "from platform import python_version\n",
    "\n",
    "print(python_version())"
   ]
  },
  {
   "cell_type": "code",
   "execution_count": 2,
   "id": "af25d6af",
   "metadata": {},
   "outputs": [
    {
     "ename": "ModuleNotFoundError",
     "evalue": "No module named 'pandas'",
     "output_type": "error",
     "traceback": [
      "\u001b[0;31m---------------------------------------------------------------------------\u001b[0m",
      "\u001b[0;31mModuleNotFoundError\u001b[0m                       Traceback (most recent call last)",
      "Input \u001b[0;32mIn [2]\u001b[0m, in \u001b[0;36m<cell line: 2>\u001b[0;34m()\u001b[0m\n\u001b[1;32m      1\u001b[0m \u001b[38;5;28;01mimport\u001b[39;00m \u001b[38;5;21;01mnumpy\u001b[39;00m\n\u001b[0;32m----> 2\u001b[0m \u001b[38;5;28;01mimport\u001b[39;00m \u001b[38;5;21;01mpandas\u001b[39;00m\n\u001b[1;32m      3\u001b[0m \u001b[38;5;28;01mimport\u001b[39;00m \u001b[38;5;21;01mscipy\u001b[39;00m\n",
      "\u001b[0;31mModuleNotFoundError\u001b[0m: No module named 'pandas'"
     ]
    }
   ],
   "source": [
    "import numpy\n",
    "import pandas\n",
    "import scipy"
   ]
  },
  {
   "cell_type": "code",
   "execution_count": 6,
   "id": "63e27721",
   "metadata": {
    "scrolled": false
   },
   "outputs": [
    {
     "ename": "ImportError",
     "evalue": "cannot import name 'minimize' from 'torch' (/opt/homebrew/Caskroom/miniforge/base/envs/pytorch_env/lib/python3.8/site-packages/torch/__init__.py)",
     "output_type": "error",
     "traceback": [
      "\u001b[0;31m---------------------------------------------------------------------------\u001b[0m",
      "\u001b[0;31mImportError\u001b[0m                               Traceback (most recent call last)",
      "Input \u001b[0;32mIn [6]\u001b[0m, in \u001b[0;36m<cell line: 1>\u001b[0;34m()\u001b[0m\n\u001b[0;32m----> 1\u001b[0m \u001b[38;5;28;01mfrom\u001b[39;00m \u001b[38;5;21;01mtorch\u001b[39;00m \u001b[38;5;28;01mimport\u001b[39;00m minimize\n",
      "\u001b[0;31mImportError\u001b[0m: cannot import name 'minimize' from 'torch' (/opt/homebrew/Caskroom/miniforge/base/envs/pytorch_env/lib/python3.8/site-packages/torch/__init__.py)"
     ]
    }
   ],
   "source": [
    "import torch\n",
    "torch.t"
   ]
  },
  {
   "cell_type": "code",
   "execution_count": null,
   "id": "93803fcc",
   "metadata": {
    "scrolled": true
   },
   "outputs": [],
   "source": [
    "sys.path"
   ]
  },
  {
   "cell_type": "code",
   "execution_count": null,
   "id": "33b652d5",
   "metadata": {},
   "outputs": [],
   "source": []
  },
  {
   "cell_type": "code",
   "execution_count": null,
   "id": "6e742559",
   "metadata": {},
   "outputs": [],
   "source": [
    "import site"
   ]
  },
  {
   "cell_type": "code",
   "execution_count": null,
   "id": "3994e0d4",
   "metadata": {},
   "outputs": [],
   "source": [
    "site.getsitepackages()"
   ]
  },
  {
   "cell_type": "code",
   "execution_count": null,
   "id": "b7e7306d",
   "metadata": {},
   "outputs": [],
   "source": [
    "help('modules')"
   ]
  },
  {
   "cell_type": "code",
   "execution_count": null,
   "id": "829b19b6",
   "metadata": {},
   "outputs": [],
   "source": [
    "import sys\n",
    "sys.path.append('/Library/Frameworks/Python.framework/Versions/3.9/lib/python3.9/site-packages/torchmin-0.0.2-py3.9.egg/')"
   ]
  },
  {
   "cell_type": "code",
   "execution_count": null,
   "id": "c1079820",
   "metadata": {},
   "outputs": [],
   "source": [
    "sys.path.append('/Users/dmitry12335/Desktop/pytorch-minimize/')"
   ]
  },
  {
   "cell_type": "code",
   "execution_count": null,
   "id": "216ebc8d",
   "metadata": {},
   "outputs": [],
   "source": [
    "from torchmin import minimize"
   ]
  },
  {
   "cell_type": "code",
   "execution_count": null,
   "id": "bd5d1948",
   "metadata": {},
   "outputs": [],
   "source": []
  },
  {
   "cell_type": "code",
   "execution_count": null,
   "id": "73f5feb1",
   "metadata": {},
   "outputs": [],
   "source": []
  },
  {
   "cell_type": "code",
   "execution_count": null,
   "id": "e7b87556",
   "metadata": {},
   "outputs": [],
   "source": [
    "catboost.CatBoostRegressor"
   ]
  },
  {
   "cell_type": "code",
   "execution_count": null,
   "id": "cb927b04",
   "metadata": {},
   "outputs": [],
   "source": [
    "import catboost"
   ]
  },
  {
   "cell_type": "code",
   "execution_count": null,
   "id": "93f80fe2",
   "metadata": {},
   "outputs": [],
   "source": [
    "import CatBoostRegressor"
   ]
  }
 ],
 "metadata": {
  "kernelspec": {
   "display_name": "Python 3 (ipykernel)",
   "language": "python",
   "name": "python3"
  },
  "language_info": {
   "codemirror_mode": {
    "name": "ipython",
    "version": 3
   },
   "file_extension": ".py",
   "mimetype": "text/x-python",
   "name": "python",
   "nbconvert_exporter": "python",
   "pygments_lexer": "ipython3",
   "version": "3.9.10"
  }
 },
 "nbformat": 4,
 "nbformat_minor": 5
}
